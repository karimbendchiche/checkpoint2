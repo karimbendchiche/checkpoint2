{
 "cells": [
  {
   "cell_type": "markdown",
   "id": "2607f75a",
   "metadata": {},
   "source": [
    "# Q1"
   ]
  },
  {
   "cell_type": "code",
   "execution_count": 3,
   "id": "7476f413",
   "metadata": {},
   "outputs": [
    {
     "name": "stdout",
     "output_type": "stream",
     "text": [
      "Entrez votre prénom: Karim\n",
      "Entrez votre nom: Bendchiche\n",
      "Bendchiche Karim\n"
     ]
    }
   ],
   "source": [
    "prenom = input(\"Entrez votre prénom: \")\n",
    "nom = input(\"Entrez votre nom: \")\n",
    "print(nom, prenom)"
   ]
  },
  {
   "cell_type": "markdown",
   "id": "65468aef",
   "metadata": {},
   "source": [
    "# Q2"
   ]
  },
  {
   "cell_type": "code",
   "execution_count": 6,
   "id": "75506c5f",
   "metadata": {},
   "outputs": [
    {
     "name": "stdout",
     "output_type": "stream",
     "text": [
      "Entrez un entier: 5\n",
      "615\n"
     ]
    }
   ],
   "source": [
    "n = input(\"Entrez un entier: \")\n",
    "nn = n*2\n",
    "nnn = n*3\n",
    "int(n)\n",
    "int(nn)\n",
    "int(nnn)\n",
    "print(int(n)+int(nn)+int(nnn))"
   ]
  },
  {
   "cell_type": "markdown",
   "id": "fe2fe3c2",
   "metadata": {},
   "source": [
    "# Q3"
   ]
  },
  {
   "cell_type": "code",
   "execution_count": 9,
   "id": "064a2c13",
   "metadata": {},
   "outputs": [
    {
     "name": "stdout",
     "output_type": "stream",
     "text": [
      "Entrez un entier: 2\n",
      "Cet entier est pair.\n"
     ]
    }
   ],
   "source": [
    "n = int(input(\"Entrez un entier: \"))\n",
    "if n%2 == 0:\n",
    "    print(\"Cet entier est pair.\")\n",
    "else:\n",
    "    print(\"Cet entier est impair.\")"
   ]
  },
  {
   "cell_type": "markdown",
   "id": "5ec35a0a",
   "metadata": {},
   "source": [
    "# Q4"
   ]
  },
  {
   "cell_type": "code",
   "execution_count": 14,
   "id": "e408e1a0",
   "metadata": {},
   "outputs": [
    {
     "name": "stdout",
     "output_type": "stream",
     "text": [
      "2016 2051 2086 2121 2156 2191 2226 2261 2296 2331 2366 2401 2436 2471 2506 2541 2576 2611 2646 2681 2716 2751 2786 2821 2856 2891 2926 2961 2996 3031 3066 3101 3136 3171 "
     ]
    }
   ],
   "source": [
    "i = 0\n",
    "for i in range (2000, 3201):\n",
    "    if i%7 == 0 and i%5 == 1:\n",
    "        print(i, end = ' ')"
   ]
  },
  {
   "cell_type": "markdown",
   "id": "d29d6143",
   "metadata": {},
   "source": [
    "# Q5"
   ]
  },
  {
   "cell_type": "code",
   "execution_count": 8,
   "id": "d861ff58",
   "metadata": {
    "scrolled": true
   },
   "outputs": [
    {
     "name": "stdout",
     "output_type": "stream",
     "text": [
      "Entrez un entier: 5\n",
      "120\n"
     ]
    }
   ],
   "source": [
    "fact = 1\n",
    "n = int(input(\"Entrez un entier: \"))\n",
    "for i in range (1, n+1):\n",
    "    fact = fact*i\n",
    "print(fact)"
   ]
  },
  {
   "cell_type": "markdown",
   "id": "1bd46468",
   "metadata": {},
   "source": [
    "# Q6"
   ]
  },
  {
   "cell_type": "code",
   "execution_count": 7,
   "id": "7c57ff5e",
   "metadata": {},
   "outputs": [
    {
     "name": "stdout",
     "output_type": "stream",
     "text": [
      "Entrez une chaîne de caractères: Salut méola ça va ?\n",
      "Sltmoaç a?\n"
     ]
    }
   ],
   "source": [
    "str = input(\"Entrez une chaîne de caractères: \")\n",
    "vide = \"\"\n",
    "for i in range(len(str)):\n",
    "    if i % 2 == 0:\n",
    "        vide = vide + str[i]\n",
    "print(vide)"
   ]
  },
  {
   "cell_type": "markdown",
   "id": "782ca1d1",
   "metadata": {},
   "source": [
    "# Q7"
   ]
  },
  {
   "cell_type": "code",
   "execution_count": 10,
   "id": "3dd88e8b",
   "metadata": {},
   "outputs": [
    {
     "name": "stdout",
     "output_type": "stream",
     "text": [
      "Entrez un prix: 200\n",
      "Le nouveau prix est de  140.0\n"
     ]
    }
   ],
   "source": [
    "prix = int(input(\"Entrez un prix: \"))\n",
    "if prix >= 500:\n",
    "    prix = prix*(1-0.5)\n",
    "    print(\"Le nouveau prix est de\" , prix)\n",
    "elif prix >= 200 and prix < 500:\n",
    "    prix = prix*(1-0.3)\n",
    "    print(\"Le nouveau prix est de\" , prix)\n",
    "else:\n",
    "    prix = prix*(1-0.1)\n",
    "    print(\"Le nouveau prix est de\" , prix)"
   ]
  },
  {
   "cell_type": "code",
   "execution_count": null,
   "id": "1ec05c58",
   "metadata": {},
   "outputs": [],
   "source": []
  }
 ],
 "metadata": {
  "kernelspec": {
   "display_name": "Python 3 (ipykernel)",
   "language": "python",
   "name": "python3"
  },
  "language_info": {
   "codemirror_mode": {
    "name": "ipython",
    "version": 3
   },
   "file_extension": ".py",
   "mimetype": "text/x-python",
   "name": "python",
   "nbconvert_exporter": "python",
   "pygments_lexer": "ipython3",
   "version": "3.9.12"
  }
 },
 "nbformat": 4,
 "nbformat_minor": 5
}
